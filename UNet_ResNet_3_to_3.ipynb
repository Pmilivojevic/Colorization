{
  "nbformat": 4,
  "nbformat_minor": 0,
  "metadata": {
    "colab": {
      "provenance": [],
      "private_outputs": true,
      "toc_visible": true,
      "machine_shape": "hm",
      "include_colab_link": true
    },
    "kernelspec": {
      "name": "python3",
      "display_name": "Python 3"
    },
    "accelerator": "GPU"
  },
  "cells": [
    {
      "cell_type": "markdown",
      "metadata": {
        "id": "view-in-github",
        "colab_type": "text"
      },
      "source": [
        "<a href=\"https://colab.research.google.com/github/Pmilivojevic/Colorization/blob/master/UNet_ResNet_3_to_3.ipynb\" target=\"_parent\"><img src=\"https://colab.research.google.com/assets/colab-badge.svg\" alt=\"Open In Colab\"/></a>"
      ]
    },
    {
      "cell_type": "code",
      "metadata": {
        "id": "BhABzTSI1Cwo"
      },
      "source": [
        "%tensorflow_version 2.x\n",
        "import tensorflow as tf\n",
        "import tensorflow_datasets as tfds\n",
        "import tensorflow.keras\n",
        "from tensorflow.keras import backend as K\n",
        "from tensorflow.keras.models import Sequential, Model, load_model\n",
        "from tensorflow.keras.datasets import cifar10\n",
        "from tensorflow.keras.optimizers import Adam\n",
        "from tensorflow.keras.layers import Conv2D, Activation, Dropout, Add, Concatenate, Input, UpSampling2D, Flatten, BatchNormalization\n",
        "import numpy as np\n",
        "import matplotlib.pyplot as plt\n",
        "import cv2\n",
        "import os"
      ],
      "execution_count": null,
      "outputs": []
    },
    {
      "cell_type": "code",
      "metadata": {
        "id": "M9HH4HZTEF29"
      },
      "source": [
        "from google.colab import drive\n",
        "drive.mount('/content/drive/')"
      ],
      "execution_count": null,
      "outputs": []
    },
    {
      "cell_type": "code",
      "metadata": {
        "id": "zIrpoFygqZUT"
      },
      "source": [
        "image_size = 512\n",
        "batch_size = 1"
      ],
      "execution_count": null,
      "outputs": []
    },
    {
      "cell_type": "code",
      "metadata": {
        "id": "zaXQSHKBirlP"
      },
      "source": [
        "data_path= '/content/drive/My Drive/Colab Notebooks/train_36'\n",
        "\n",
        "train= []\n",
        "train_labels= []\n",
        "\n",
        "for i in range(len(os.listdir(data_path))):\n",
        "  if i >= 0 and i <200:\n",
        "    img= cv2.imread(os.path.join(data_path, os.listdir(data_path)[i]))\n",
        "    train_labels.append(cv2.cvtColor(cv2.resize(img, (512, 512), cv2.INTER_AREA), cv2.COLOR_BGR2RGB))"
      ],
      "execution_count": null,
      "outputs": []
    },
    {
      "cell_type": "code",
      "metadata": {
        "id": "_UpM4N0wP12F"
      },
      "source": [
        "i= 0\n",
        "for img in train_labels:\n",
        "  gray= cv2.cvtColor(img, cv2.COLOR_RGB2GRAY)\n",
        "  train.append(cv2.merge((gray, gray, gray)))\n",
        "\n",
        "train= np.array(train).reshape(-1, 512, 512, 3)\n",
        "train= train/255.0\n",
        "train_labels= np.array(train_labels).reshape(-1, 512, 512, 3)\n",
        "train_labels= train_labels/255.0"
      ],
      "execution_count": null,
      "outputs": []
    },
    {
      "cell_type": "code",
      "metadata": {
        "id": "tXmORIHSVf_5"
      },
      "source": [
        "test_data_path= '/content/drive/My Drive/Colab Notebooks/test'\n",
        "\n",
        "test= []\n",
        "test_labels= []\n",
        "\n",
        "for i in range(len(os.listdir(test_data_path))):\n",
        "  img= cv2.imread(os.path.join(test_data_path, os.listdir(test_data_path)[i]))\n",
        "  test_labels.append(cv2.cvtColor(cv2.resize(img, (512, 512), cv2.INTER_AREA), cv2.COLOR_BGR2RGB))"
      ],
      "execution_count": null,
      "outputs": []
    },
    {
      "cell_type": "code",
      "metadata": {
        "id": "zQh-3QSS0d6S"
      },
      "source": [
        "i= 0\n",
        "for img in test_labels:\n",
        "  gray= cv2.cvtColor(img, cv2.COLOR_RGB2GRAY)\n",
        "  test.append(cv2.merge((gray, gray, gray)))\n",
        "\n",
        "test= np.array(test).reshape(-1, 512, 512, 3)\n",
        "test= test/255.0\n",
        "test_labels= np.array(test_labels).reshape(-1, 512, 512, 3)\n",
        "test_labels= test_labels/255.0"
      ],
      "execution_count": null,
      "outputs": []
    },
    {
      "cell_type": "code",
      "metadata": {
        "id": "cXaSXxdkcjFl"
      },
      "source": [
        "'''def bn_act(x, act=True):\n",
        "    x = BatchNormalization()(x)\n",
        "    if act == True:\n",
        "        x = Activation(\"relu\")(x)\n",
        "    return x\n",
        "\n",
        "def conv_block(x, filters, kernel_size=(3, 3), padding=\"same\", strides=1):\n",
        "    conv = bn_act(x)\n",
        "    conv = Conv2D(filters, kernel_size, padding=padding, strides=strides)(conv)\n",
        "    return conv\n",
        "\n",
        "def stem(x, filters, kernel_size=(3, 3), padding=\"same\", strides=1):\n",
        "    conv = Conv2D(filters, kernel_size, padding=padding, strides=strides)(x)\n",
        "    conv = conv_block(conv, filters, kernel_size=kernel_size, padding=padding, strides=strides)\n",
        "\n",
        "    shortcut = Conv2D(filters, kernel_size=(1, 1), padding=padding, strides=strides)(x)\n",
        "    shortcut = bn_act(shortcut, act=False)\n",
        "\n",
        "    output = Add()([conv, shortcut])\n",
        "    return output\n",
        "\n",
        "def residual_block(x, filters, kernel_size=(3, 3), padding=\"same\", strides=1):\n",
        "    res = conv_block(x, filters, kernel_size=kernel_size, padding=padding, strides=strides)\n",
        "    res = conv_block(res, filters, kernel_size=kernel_size, padding=padding, strides=1)\n",
        "\n",
        "    shortcut = Conv2D(filters, kernel_size=(1, 1), padding=padding, strides=strides)(x)\n",
        "    shortcut = bn_act(shortcut, act=False)\n",
        "\n",
        "    output = Add()([shortcut, res])\n",
        "    return output\n",
        "\n",
        "def upsample_concat_block(x, xskip):\n",
        "    u = UpSampling2D((2, 2))(x)\n",
        "    c = Concatenate()([u, xskip])\n",
        "    return c'''"
      ],
      "execution_count": null,
      "outputs": []
    },
    {
      "cell_type": "code",
      "metadata": {
        "id": "lfSA7zkgjtIN"
      },
      "source": [
        "'''def ResUNet():\n",
        "    f = [16, 32, 64, 128, 256]\n",
        "    inputs = Input((image_size, image_size, 3))\n",
        "\n",
        "    ## Encoder\n",
        "    e0 = inputs\n",
        "    e1 = stem(e0, f[0])\n",
        "    e2 = residual_block(e1, f[1], strides=2)\n",
        "    e3 = residual_block(e2, f[2], strides=2)\n",
        "    e4 = residual_block(e3, f[3], strides=2)\n",
        "    e5 = residual_block(e4, f[4], strides=2)\n",
        "\n",
        "    ## Bridge\n",
        "    b0 = conv_block(e5, f[4], strides=1)\n",
        "    b1 = conv_block(b0, f[4], strides=1)\n",
        "\n",
        "    ## Decoder\n",
        "    u1 = upsample_concat_block(b1, e4)\n",
        "    d1 = residual_block(u1, f[4])\n",
        "\n",
        "    u2 = upsample_concat_block(d1, e3)\n",
        "    d2 = residual_block(u2, f[3])\n",
        "\n",
        "    u3 = upsample_concat_block(d2, e2)\n",
        "    d3 = residual_block(u3, f[2])\n",
        "\n",
        "    u4 = upsample_concat_block(d3, e1)\n",
        "    d4 = residual_block(u4, f[1])\n",
        "\n",
        "    outputs = Conv2D(3, (1, 1), padding=\"same\", activation=\"sigmoid\")(d4)\n",
        "    model = Model(inputs, outputs)\n",
        "    return model'''"
      ],
      "execution_count": null,
      "outputs": []
    },
    {
      "cell_type": "code",
      "metadata": {
        "id": "zxRdVSLIkhBy"
      },
      "source": [
        "def r2_score(y_true, y_pred):\n",
        "    SS_res =  K.sum(K.square( y_true-y_pred ))\n",
        "    SS_tot = K.sum(K.square( y_true - K.mean(y_true)))\n",
        "    return ( 1 - SS_res/(SS_tot + K.epsilon()))"
      ],
      "execution_count": null,
      "outputs": []
    },
    {
      "cell_type": "code",
      "metadata": {
        "id": "0e-ou_81kk8E"
      },
      "source": [
        "'''model = ResUNet()\n",
        "adam = Adam()\n",
        "model.compile(Adam(lr= .0001), loss= 'mean_squared_error', metrics=[r2_score])\n",
        "model.summary()'''"
      ],
      "execution_count": null,
      "outputs": []
    },
    {
      "cell_type": "code",
      "metadata": {
        "id": "BoSbOhuhZOD4"
      },
      "source": [
        "models_path= '/content/drive/My Drive/Colab Notebooks/models/colorization_3to3_chanels'\n",
        "len(os.listdir(models_path))\n",
        "#model_load_path= models_path + '/model_' + str(len(os.listdir(models_path))) + '.h5'\n",
        "model_load_path= models_path + '/model_10.h5'\n",
        "print(model_load_path)"
      ],
      "execution_count": null,
      "outputs": []
    },
    {
      "cell_type": "code",
      "metadata": {
        "id": "04ekI-GykqPg"
      },
      "source": [
        "dependencies= {\n",
        "    'r2_score': r2_score\n",
        "}\n",
        "model= load_model(model_load_path, custom_objects= dependencies)\n",
        "#model.summary()"
      ],
      "execution_count": null,
      "outputs": []
    },
    {
      "cell_type": "code",
      "metadata": {
        "id": "QqMGhb2GTrlF"
      },
      "source": [
        "model.optimizer= Adam(learning_rate= 0.001)"
      ],
      "execution_count": null,
      "outputs": []
    },
    {
      "cell_type": "code",
      "metadata": {
        "id": "NovBUhStkoQe"
      },
      "source": [
        "model_save_path= models_path + '/model_' + str(len(os.listdir(models_path))+1) + '.h5'\n",
        "model.fit(train, train_labels, batch_size= batch_size, validation_split= 0.1, epochs=50)\n",
        "model.save(model_save_path)"
      ],
      "execution_count": null,
      "outputs": []
    },
    {
      "cell_type": "code",
      "metadata": {
        "id": "kLWQFJN1VoJC"
      },
      "source": [
        "from google.colab import drive\n",
        "drive.mount('/content/drive')"
      ],
      "execution_count": null,
      "outputs": []
    },
    {
      "cell_type": "code",
      "metadata": {
        "id": "yDSQiW3CcpEz"
      },
      "source": [
        "#i= np.reshape(test[5], (512, 512))\n",
        "plt.imshow(test_labels[67], cmap= 'gray')"
      ],
      "execution_count": null,
      "outputs": []
    },
    {
      "cell_type": "code",
      "metadata": {
        "id": "W5A1msdYk_ix"
      },
      "source": [
        "predictions= model.predict(test)"
      ],
      "execution_count": null,
      "outputs": []
    },
    {
      "cell_type": "code",
      "metadata": {
        "id": "62pp_cBJlCpU"
      },
      "source": [
        "plt.imshow(predictions[67])"
      ],
      "execution_count": null,
      "outputs": []
    },
    {
      "cell_type": "code",
      "metadata": {
        "id": "7SqUWRDdlFy-"
      },
      "source": [
        "plt.imshow(test[60], cmap= 'gray')"
      ],
      "execution_count": null,
      "outputs": []
    },
    {
      "cell_type": "code",
      "metadata": {
        "id": "kTKAqFrSc3CR"
      },
      "source": [
        "test_image= cv2.imread('/content/drive/My Drive/Colab Notebooks/Sofija.bmp')\n",
        "test_image= test_image[70:442, 70:442]\n",
        "test_image= cv2.resize(test_image, (512, 512), cv2.INTER_AREA)\n",
        "test_image.shape"
      ],
      "execution_count": null,
      "outputs": []
    },
    {
      "cell_type": "code",
      "metadata": {
        "id": "uv7uZDXYN8qB"
      },
      "source": [
        "plt.imshow(test_image)"
      ],
      "execution_count": null,
      "outputs": []
    },
    {
      "cell_type": "code",
      "metadata": {
        "id": "0kgEXHRhonlb"
      },
      "source": [
        "#test_image= cv2.cvtColor(test_image, cv2.COLOR_RGB2GRAY)\n",
        "test_image= np.array(test_image).reshape(-1, 512, 512, 3)\n",
        "test_image= test_image/255.0"
      ],
      "execution_count": null,
      "outputs": []
    },
    {
      "cell_type": "code",
      "metadata": {
        "id": "IfGGKpuWpZ5n"
      },
      "source": [
        "prediction= model.predict(test_image)"
      ],
      "execution_count": null,
      "outputs": []
    },
    {
      "cell_type": "code",
      "metadata": {
        "id": "oRBylZO4p2L6"
      },
      "source": [
        "plt.imshow(prediction[0])"
      ],
      "execution_count": null,
      "outputs": []
    },
    {
      "cell_type": "code",
      "metadata": {
        "id": "zp5GJrKwa3Pz"
      },
      "source": [
        "B_model_load_path= models_path + '/model_16.h5'\n",
        "B_model= load_model(B_model_load_path, custom_objects= dependencies)\n",
        "B_prediction= B_model.predict(test_image)\n",
        "#img= cv2.cvtColor(cv2.merge((np.uint8(test_image[0,:,:,0]*255), np.uint8(B_prediction[0,:,:,0]*255), np.uint8(B_prediction[0,:,:,1]*255))), cv2.COLOR_LAB2RGB)\n",
        "plt.imshow(B_prediction[0], cmap= 'gray')"
      ],
      "execution_count": null,
      "outputs": []
    },
    {
      "cell_type": "code",
      "metadata": {
        "id": "W_pS1t0-nOV3"
      },
      "source": [],
      "execution_count": null,
      "outputs": []
    }
  ]
}