{
  "nbformat": 4,
  "nbformat_minor": 0,
  "metadata": {
    "colab": {
      "name": "Unet_ResNet_L2AB_256x256.ipynb",
      "provenance": [],
      "private_outputs": true,
      "machine_shape": "hm",
      "include_colab_link": true
    },
    "kernelspec": {
      "name": "python3",
      "display_name": "Python 3"
    },
    "accelerator": "GPU"
  },
  "cells": [
    {
      "cell_type": "markdown",
      "metadata": {
        "id": "view-in-github",
        "colab_type": "text"
      },
      "source": [
        "<a href=\"https://colab.research.google.com/github/Pmilivojevic/Colorization/blob/master/Unet_ResNet_L2AB_256x256.ipynb\" target=\"_parent\"><img src=\"https://colab.research.google.com/assets/colab-badge.svg\" alt=\"Open In Colab\"/></a>"
      ]
    },
    {
      "cell_type": "code",
      "metadata": {
        "id": "BhABzTSI1Cwo",
        "colab_type": "code",
        "colab": {}
      },
      "source": [
        "%tensorflow_version 2.x\n",
        "import tensorflow as tf\n",
        "import tensorflow_datasets as tfds\n",
        "import tensorflow.keras\n",
        "from tensorflow.keras import backend as K\n",
        "from tensorflow.keras.models import Sequential, Model, load_model\n",
        "from tensorflow.keras.datasets import cifar10\n",
        "from tensorflow.keras.optimizers import Adam\n",
        "from tensorflow.keras.layers import Conv2D, Activation, Dropout, Add, Concatenate, Input, UpSampling2D, Flatten, BatchNormalization\n",
        "import numpy as np\n",
        "import matplotlib.pyplot as plt\n",
        "import cv2\n",
        "import os\n",
        "import random\n",
        "import math\n",
        "import time"
      ],
      "execution_count": 0,
      "outputs": []
    },
    {
      "cell_type": "code",
      "metadata": {
        "id": "M9HH4HZTEF29",
        "colab_type": "code",
        "colab": {}
      },
      "source": [
        "from google.colab import drive\n",
        "drive.mount('/content/drive/')"
      ],
      "execution_count": 0,
      "outputs": []
    },
    {
      "cell_type": "code",
      "metadata": {
        "id": "cqHwog0ajWYZ",
        "colab_type": "code",
        "colab": {}
      },
      "source": [
        "'''def generate_random_lines(imshape,slant,drop_length,rain_type):\n",
        "    drops=[]\n",
        "    area=imshape[0]*imshape[1]\n",
        "    no_of_drops=area//1000\n",
        "\n",
        "    if rain_type.lower()=='drizzle':\n",
        "        no_of_drops=area//770\n",
        "        drop_length=10\n",
        "    elif rain_type.lower()=='heavy':\n",
        "        drop_length=30\n",
        "    elif rain_type.lower()=='torrential':\n",
        "        no_of_drops=area//800\n",
        "        drop_length=50\n",
        "\n",
        "    for i in range(no_of_drops): ## If You want heavy rain, try increasing this\n",
        "        if slant<0:\n",
        "            x= np.random.randint(slant,imshape[1])\n",
        "        else:\n",
        "            x= np.random.randint(0,imshape[1]-slant)\n",
        "        y= np.random.randint(0,imshape[0]-drop_length)\n",
        "        drops.append((x,y))\n",
        "    return drops,drop_length'''"
      ],
      "execution_count": 0,
      "outputs": []
    },
    {
      "cell_type": "code",
      "metadata": {
        "id": "-C7yCpc_qa2q",
        "colab_type": "code",
        "colab": {}
      },
      "source": [
        "'''def rain_process(image,slant,drop_length,drop_color,drop_width,rain_drops):\n",
        "    imshape = image.shape  \n",
        "    image_t= image.copy()\n",
        "    for rain_drop in rain_drops:\n",
        "        cv2.line(image_t,(rain_drop[0],rain_drop[1]),(rain_drop[0]+slant,rain_drop[1]+drop_length),drop_color,drop_width)\n",
        "    image= cv2.blur(image_t,(7,7)) ## rainy view are blurry\n",
        "    brightness_coefficient = 0.7 ## rainy days are usually shady \n",
        "    image_HLS = cv2.cvtColor(image, cv2.COLOR_BGR2HLS) ## Conversion to HLS\n",
        "    image_HLS[:,:,1] = image_HLS[:,:,1]*brightness_coefficient ## scale pixel values down for channel 1(Lightness)\n",
        "    image_RGB= cv2.cvtColor(image_HLS, cv2.COLOR_HLS2RGB) ## Conversion to RGB\n",
        "    return image_RGB'''"
      ],
      "execution_count": 0,
      "outputs": []
    },
    {
      "cell_type": "code",
      "metadata": {
        "colab_type": "code",
        "id": "vkQd7l0QN0u6",
        "colab": {}
      },
      "source": [
        "'''def add_rain(image,slant=-1,drop_length=20,drop_width=1,drop_color=(200,200,200),rain_type='None'): ## (200,200,200) a shade of gray\n",
        "    #verify_image(image)\n",
        "    slant_extreme=slant\n",
        "    \n",
        "    imshape = image.shape\n",
        "    if slant_extreme==-1:\n",
        "        slant= np.random.randint(-10,10) ##generate random slant if no slant value is given\n",
        "    rain_drops,drop_length= generate_random_lines(imshape,slant,drop_length,rain_type)\n",
        "    output= rain_process(image,slant_extreme,drop_length,drop_color,drop_width,rain_drops)\n",
        "    image_RGB=output    \n",
        "\n",
        "    return image_RGB'''"
      ],
      "execution_count": 0,
      "outputs": []
    },
    {
      "cell_type": "code",
      "metadata": {
        "id": "PHxkmiEmWV3A",
        "colab_type": "code",
        "colab": {}
      },
      "source": [
        "'''def add_blur(image, x,y,hw,fog_coeff):\n",
        "    overlay= image.copy()\n",
        "    output= image.copy()\n",
        "    alpha= 0.08*fog_coeff\n",
        "    rad= hw//2\n",
        "    point=(x+hw//2, y+hw//2)\n",
        "    cv2.circle(overlay,point, int(rad), (255,255,255), -1)\n",
        "    cv2.addWeighted(overlay, alpha, output, 1 -alpha ,0, output)\n",
        "    return output'''"
      ],
      "execution_count": 0,
      "outputs": []
    },
    {
      "cell_type": "code",
      "metadata": {
        "id": "hrjWnwGuWg7g",
        "colab_type": "code",
        "colab": {}
      },
      "source": [
        "'''def generate_random_blur_coordinates(imshape,hw):\n",
        "    blur_points=[]\n",
        "    midx= imshape[1]//2-2*hw\n",
        "    midy= imshape[0]//2-hw\n",
        "    index=1\n",
        "    while(midx>-hw or midy>-hw):\n",
        "        for i in range(hw//10*index):\n",
        "            x= np.random.randint(midx,imshape[1]-midx-hw)\n",
        "            y= np.random.randint(midy,imshape[0]-midy-hw)\n",
        "            blur_points.append((x,y))\n",
        "        midx-=3*hw*imshape[1]//sum(imshape)\n",
        "        midy-=3*hw*imshape[0]//sum(imshape)\n",
        "        index+=1\n",
        "    return blur_points'''"
      ],
      "execution_count": 0,
      "outputs": []
    },
    {
      "cell_type": "code",
      "metadata": {
        "id": "PT8zTzfLWlep",
        "colab_type": "code",
        "colab": {}
      },
      "source": [
        "'''def add_fog(image, fog_coeff=-1):\n",
        "    #verify_image(image)\n",
        "   # image= cv2.cvtColor(image, cv2.COLOR_BGR2RGB)\n",
        "    \n",
        "    imshape = image.shape\n",
        "    if fog_coeff==-1:\n",
        "        fog_coeff_t=random.uniform(0.3,1)\n",
        "    else:\n",
        "        fog_coeff_t=fog_coeff\n",
        "    hw=int(imshape[1]//3*fog_coeff_t)\n",
        "    haze_list= generate_random_blur_coordinates(imshape,hw)\n",
        "    for haze_points in haze_list: \n",
        "        image= add_blur(image, haze_points[0],haze_points[1], hw,fog_coeff_t) \n",
        "    image = cv2.blur(image ,(hw//10,hw//10))\n",
        "    image_RGB = image\n",
        "\n",
        "    return image_RGB'''"
      ],
      "execution_count": 0,
      "outputs": []
    },
    {
      "cell_type": "code",
      "metadata": {
        "id": "zIrpoFygqZUT",
        "colab_type": "code",
        "colab": {}
      },
      "source": [
        "image_size = 1024\n",
        "batch_size = 32"
      ],
      "execution_count": 0,
      "outputs": []
    },
    {
      "cell_type": "code",
      "metadata": {
        "id": "zaXQSHKBirlP",
        "colab_type": "code",
        "colab": {}
      },
      "source": [
        "data_path= '/content/drive/My Drive/Colab Notebooks/train'\n",
        "\n",
        "train= []\n",
        "train_labels= []\n",
        "j= 0\n",
        "for i in range(len(os.listdir(data_path))):\n",
        "  if i < 1500:\n",
        "#  if i > 1500:\n",
        "    image= cv2.imread(os.path.join(data_path, os.listdir(data_path)[i]))\n",
        "    imgLAB= cv2.cvtColor(image, cv2.COLOR_BGR2LAB)\n",
        "    w, h, c= imgLAB.shape\n",
        "    if w > 255 and h > 255:\n",
        "      if w >= h:\n",
        "        img= np.zeros((h,h,3))\n",
        "        img= imgLAB[np.int((w-h)/2):np.int((w-h)/2+h),:,:]\n",
        "      else:\n",
        "        img= np.zeros((w,w,3))\n",
        "        img= imgLAB[np.int((h-w)/2):np.int((h-w)/2+w),:,:]\n",
        "      img= cv2.resize(img, (256, 256), cv2.INTER_AREA)\n",
        "      train.append(img[:,:,0])\n",
        "      train_labels.append(cv2.merge((img[:,:,1], img[:,:,2])))\n",
        "        \n",
        "train= np.array(train).reshape(-1, 256, 256, 1)\n",
        "train= train/255.0\n",
        "train_labels= np.array(train_labels).reshape(-1, 256, 256, 2)\n",
        "train_labels= train_labels/255.0"
      ],
      "execution_count": 0,
      "outputs": []
    },
    {
      "cell_type": "code",
      "metadata": {
        "id": "wSWpPR46fAf7",
        "colab_type": "code",
        "colab": {}
      },
      "source": [
        "train.shape"
      ],
      "execution_count": 0,
      "outputs": []
    },
    {
      "cell_type": "code",
      "metadata": {
        "id": "ckYTvUneOyI-",
        "colab_type": "code",
        "colab": {}
      },
      "source": [
        "image= cv2.imread(os.path.join(data_path, os.listdir(data_path)[2402]))\n",
        "plt.imshow(image)\n",
        "image.shape"
      ],
      "execution_count": 0,
      "outputs": []
    },
    {
      "cell_type": "code",
      "metadata": {
        "id": "mBtHyf9-7r-8",
        "colab_type": "code",
        "colab": {}
      },
      "source": [
        "#i= np.reshape(train[106], (512, 512))\n",
        "plt.imshow(imgLAB)"
      ],
      "execution_count": 0,
      "outputs": []
    },
    {
      "cell_type": "code",
      "metadata": {
        "id": "fEehVEF1DMhq",
        "colab_type": "code",
        "colab": {}
      },
      "source": [
        "#plt.imshow(train_labels[6])"
      ],
      "execution_count": 0,
      "outputs": []
    },
    {
      "cell_type": "code",
      "metadata": {
        "id": "tXmORIHSVf_5",
        "colab_type": "code",
        "colab": {}
      },
      "source": [
        "test_data_path= '/content/drive/My Drive/Colab Notebooks/test'\n",
        "\n",
        "test= []\n",
        "test_labels= []\n",
        "\n",
        "for i in range(len(os.listdir(test_data_path))):\n",
        "  image= cv2.imread(os.path.join(test_data_path, os.listdir(test_data_path)[i]))\n",
        "  imgLAB= cv2.cvtColor(cv2.resize(image, (512, 512), cv2.INTER_AREA), cv2.COLOR_BGR2LAB)\n",
        "  test.append(imgLAB[:,:,0])\n",
        "  test_labels.append(cv2.merge((imgLAB[:,:,1], imgLAB[:,:,2])))\n",
        "\n",
        "test= np.array(test).reshape(-1, 512, 512, 1)\n",
        "test= test/255.0\n",
        "test_labels= np.array(test_labels).reshape(-1, 512, 512, 2)\n",
        "test_labels= test_labels/255.0"
      ],
      "execution_count": 0,
      "outputs": []
    },
    {
      "cell_type": "code",
      "metadata": {
        "id": "cExhVYwYRRKE",
        "colab_type": "code",
        "colab": {}
      },
      "source": [
        "'''#test_labels[100,:,:,1].shape\n",
        "L= test[0,:,:,0]*255\n",
        "A= test_labels[0,:,:,0]*255\n",
        "B= test_labels[0,:,:,1]*255\n",
        "img= cv2.merge((L, A, B))\n",
        "img= np.uint8(img)\n",
        "#img= cv2.merge((test[0,:,:,0], test_labels[0,:,:,0], test_labels[0,:,:,1]))\n",
        "img= cv2.cvtColor(img, cv2.COLOR_LAB2RGB)\n",
        "plt.imshow(img, cmap= 'gray')'''"
      ],
      "execution_count": 0,
      "outputs": []
    },
    {
      "cell_type": "code",
      "metadata": {
        "id": "cXaSXxdkcjFl",
        "colab_type": "code",
        "colab": {}
      },
      "source": [
        "def bn_act(x, act=True):\n",
        "    x = BatchNormalization()(x)\n",
        "    if act == True:\n",
        "        x = Activation(\"relu\")(x)\n",
        "    return x\n",
        "\n",
        "def conv_block(x, filters, kernel_size=(3,3), padding=\"same\", strides=1):\n",
        "    conv = bn_act(x)\n",
        "    conv = Conv2D(filters, kernel_size, padding=padding, strides=strides)(conv)\n",
        "    return conv\n",
        "\n",
        "def stem(x, filters, kernel_size=(3,3), padding=\"same\", strides=1):\n",
        "    conv = Conv2D(filters, kernel_size, padding=padding, strides=strides)(x)\n",
        "    conv = conv_block(conv, filters, kernel_size=kernel_size, padding=padding, strides=strides)\n",
        "    \n",
        "    shortcut = Conv2D(filters, kernel_size=(1, 1), padding=padding, strides=strides)(x)\n",
        "    shortcut = bn_act(shortcut, act=False)\n",
        "    \n",
        "    output = Add()([conv, shortcut])\n",
        "    return output\n",
        "\n",
        "def residual_block(x, filters, kernel_size=(3,3), padding=\"same\", strides=1):\n",
        "    res = conv_block(x, filters, kernel_size=kernel_size, padding=padding, strides=strides)\n",
        "    res = conv_block(res, filters, kernel_size=kernel_size, padding=padding, strides=1)\n",
        "    \n",
        "    shortcut = Conv2D(filters, kernel_size=(1, 1), padding=padding, strides=strides)(x)\n",
        "    shortcut = bn_act(shortcut, act=False)\n",
        "    \n",
        "    output = Add()([shortcut, res])\n",
        "    return output\n",
        "\n",
        "def upsample_concat_block(x, xskip, ks):\n",
        "    u = UpSampling2D((ks, ks))(x)\n",
        "    c = Concatenate()([u, xskip])\n",
        "    return c"
      ],
      "execution_count": 0,
      "outputs": []
    },
    {
      "cell_type": "code",
      "metadata": {
        "id": "lfSA7zkgjtIN",
        "colab_type": "code",
        "colab": {}
      },
      "source": [
        "def ResUNet():\n",
        "    f = [16, 32, 64, 256, 512]\n",
        "    inputs = Input((image_size, image_size, 1))\n",
        "    \n",
        "    ## Encoder\n",
        "    e0 = conv_block(inputs, filters=1, kernel_size=(5,5), padding='same', strides=4)\n",
        "    e1 = stem(e0, f[0])\n",
        "    e2 = residual_block(e1, f[1], strides=4)\n",
        "    e3 = residual_block(e2, f[2], strides=2)\n",
        "    e4 = residual_block(e3, f[3], strides=4)\n",
        "    e5 = residual_block(e4, f[4], strides=2)\n",
        "    \n",
        "    ## Bridge\n",
        "    b0 = conv_block(e5, f[4], strides=1)\n",
        "    b1 = conv_block(b0, f[4], strides=1)\n",
        "    \n",
        "    ## Decoder\n",
        "    u1 = upsample_concat_block(b1, e4, 2)\n",
        "    d1 = residual_block(u1, f[4])\n",
        "    \n",
        "    u2 = upsample_concat_block(d1, e3, 4)\n",
        "    d2 = residual_block(u2, f[3])\n",
        "    \n",
        "    u3 = upsample_concat_block(d2, e2, 2)\n",
        "    d3 = residual_block(u3, f[2])\n",
        "    \n",
        "    u4 = upsample_concat_block(d3, e1, 4)\n",
        "    d4 = residual_block(u4, f[1])\n",
        "    \n",
        "    outputs = Conv2D(2, (1, 1), padding=\"same\", activation=\"sigmoid\")(d4)\n",
        "    outputs= UpSampling2D((4, 4))(outputs)\n",
        "    model = Model(inputs, outputs)\n",
        "    return model"
      ],
      "execution_count": 0,
      "outputs": []
    },
    {
      "cell_type": "code",
      "metadata": {
        "id": "zxRdVSLIkhBy",
        "colab_type": "code",
        "colab": {}
      },
      "source": [
        "def r2_score(y_true, y_pred):\n",
        "    SS_res =  K.sum(K.square( y_true-y_pred ))\n",
        "    SS_tot = K.sum(K.square( y_true - K.mean(y_true)))\n",
        "    return ( 1 - SS_res/(SS_tot + K.epsilon()))"
      ],
      "execution_count": 0,
      "outputs": []
    },
    {
      "cell_type": "code",
      "metadata": {
        "id": "0e-ou_81kk8E",
        "colab_type": "code",
        "colab": {}
      },
      "source": [
        "model = ResUNet()\n",
        "adam = Adam()\n",
        "model.compile(Adam(lr= .0001), loss= 'mean_squared_error', metrics=[r2_score])\n",
        "model.summary()"
      ],
      "execution_count": 0,
      "outputs": []
    },
    {
      "cell_type": "code",
      "metadata": {
        "id": "BoSbOhuhZOD4",
        "colab_type": "code",
        "colab": {}
      },
      "source": [
        "models_path= '/content/drive/My Drive/Colab Notebooks/models/256x256'\n",
        "len(os.listdir(models_path))\n",
        "model_load_path= models_path + '/model_' + str(len(os.listdir(models_path))) + '.h5'\n",
        "#model_load_path= models_path + '/model_11.h5'\n",
        "#print(model_load_path)"
      ],
      "execution_count": 0,
      "outputs": []
    },
    {
      "cell_type": "code",
      "metadata": {
        "id": "04ekI-GykqPg",
        "colab_type": "code",
        "colab": {}
      },
      "source": [
        "dependencies= {\n",
        "    'r2_score': r2_score\n",
        "}\n",
        "model= load_model(model_load_path, custom_objects= dependencies)\n",
        "#model.summary()"
      ],
      "execution_count": 0,
      "outputs": []
    },
    {
      "cell_type": "code",
      "metadata": {
        "id": "OTBbvHAWGrfO",
        "colab_type": "code",
        "colab": {}
      },
      "source": [
        "model.summary()"
      ],
      "execution_count": 0,
      "outputs": []
    },
    {
      "cell_type": "code",
      "metadata": {
        "id": "QqMGhb2GTrlF",
        "colab_type": "code",
        "colab": {}
      },
      "source": [
        "model.optimizer= Adam(learning_rate= 0.00001)"
      ],
      "execution_count": 0,
      "outputs": []
    },
    {
      "cell_type": "code",
      "metadata": {
        "id": "NovBUhStkoQe",
        "colab_type": "code",
        "colab": {}
      },
      "source": [
        "model_save_path= models_path + '/model_' + str(len(os.listdir(models_path))+1) + '.h5'\n",
        "model.fit(train, train_labels, batch_size= batch_size, validation_split= 0.1, epochs=50)\n",
        "model.save(model_save_path)"
      ],
      "execution_count": 0,
      "outputs": []
    },
    {
      "cell_type": "code",
      "metadata": {
        "id": "yDSQiW3CcpEz",
        "colab_type": "code",
        "colab": {}
      },
      "source": [
        "img= cv2.cvtColor(cv2.merge((np.uint8(test[60,:,:,0]*255), np.uint8(test_labels[60,:,:,0]*255), np.uint8(test_labels[60,:,:,1]*255))), cv2.COLOR_LAB2RGB)\n",
        "plt.imshow(img, cmap= 'gray')"
      ],
      "execution_count": 0,
      "outputs": []
    },
    {
      "cell_type": "code",
      "metadata": {
        "id": "W5A1msdYk_ix",
        "colab_type": "code",
        "colab": {}
      },
      "source": [
        "predictions= model.predict(test)"
      ],
      "execution_count": 0,
      "outputs": []
    },
    {
      "cell_type": "code",
      "metadata": {
        "id": "62pp_cBJlCpU",
        "colab_type": "code",
        "colab": {}
      },
      "source": [
        "img= cv2.cvtColor(cv2.merge((np.uint8(test[67,:,:,0]*255), np.uint8(predictions[67,:,:,0]*255), np.uint8(predictions[67,:,:,1]*255))), cv2.COLOR_LAB2RGB)\n",
        "plt.imshow(img)"
      ],
      "execution_count": 0,
      "outputs": []
    },
    {
      "cell_type": "code",
      "metadata": {
        "id": "7SqUWRDdlFy-",
        "colab_type": "code",
        "colab": {}
      },
      "source": [
        "plt.imshow(test[60,:,:,0], cmap= 'gray')"
      ],
      "execution_count": 0,
      "outputs": []
    },
    {
      "cell_type": "code",
      "metadata": {
        "id": "kTKAqFrSc3CR",
        "colab_type": "code",
        "colab": {}
      },
      "source": [
        "test_image= cv2.imread('/content/drive/My Drive/Colab Notebooks/Sofija.bmp')\n",
        "#test_image= test_image[70:442, 70:442]\n",
        "test_image= cv2.resize(test_image, (256, 256), cv2.INTER_AREA)\n",
        "test_image= cv2.cvtColor(test_image, cv2.COLOR_RGB2GRAY)"
      ],
      "execution_count": 0,
      "outputs": []
    },
    {
      "cell_type": "code",
      "metadata": {
        "id": "uv7uZDXYN8qB",
        "colab_type": "code",
        "colab": {}
      },
      "source": [
        "plt.imshow(test_image, cmap='gray')"
      ],
      "execution_count": 0,
      "outputs": []
    },
    {
      "cell_type": "code",
      "metadata": {
        "id": "0kgEXHRhonlb",
        "colab_type": "code",
        "colab": {}
      },
      "source": [
        "test_image= np.array(test_image).reshape(-1, 256, 256, 1)\n",
        "test_image= test_image/255.0"
      ],
      "execution_count": 0,
      "outputs": []
    },
    {
      "cell_type": "code",
      "metadata": {
        "id": "IfGGKpuWpZ5n",
        "colab_type": "code",
        "colab": {}
      },
      "source": [
        "t= time.time()\n",
        "prediction= model.predict(test_image)\n",
        "print(time.time()-t)"
      ],
      "execution_count": 0,
      "outputs": []
    },
    {
      "cell_type": "code",
      "metadata": {
        "id": "oRBylZO4p2L6",
        "colab_type": "code",
        "colab": {}
      },
      "source": [
        "img= cv2.cvtColor(cv2.merge((np.uint8(test_image[0,:,:,0]*255), np.uint8(prediction[0,:,:,0]*255), np.uint8(prediction[0,:,:,1]*255))), cv2.COLOR_LAB2RGB)\n",
        "plt.imshow(img)"
      ],
      "execution_count": 0,
      "outputs": []
    },
    {
      "cell_type": "code",
      "metadata": {
        "id": "zp5GJrKwa3Pz",
        "colab_type": "code",
        "colab": {}
      },
      "source": [
        "B_model_load_path= models_path + '/model_11.h5'\n",
        "B_model= load_model(B_model_load_path, custom_objects= dependencies)\n",
        "B_prediction= B_model.predict(test_image)\n",
        "img= cv2.cvtColor(cv2.merge((np.uint8(test_image[0,:,:,0]*255), np.uint8(B_prediction[0,:,:,0]*255), np.uint8(B_prediction[0,:,:,1]*255))), cv2.COLOR_LAB2RGB)\n",
        "plt.imshow(img, cmap= 'gray')"
      ],
      "execution_count": 0,
      "outputs": []
    },
    {
      "cell_type": "code",
      "metadata": {
        "id": "W_pS1t0-nOV3",
        "colab_type": "code",
        "colab": {}
      },
      "source": [
        ""
      ],
      "execution_count": 0,
      "outputs": []
    }
  ]
}